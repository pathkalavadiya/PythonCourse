{
 "cells": [
  {
   "cell_type": "code",
   "execution_count": 52,
   "metadata": {},
   "outputs": [
    {
     "name": "stdout",
     "output_type": "stream",
     "text": [
      "20\n",
      "charusat\n",
      "('charusat', 'depstar')\n",
      "2\n",
      "1\n",
      "4\n",
      "99.98\n",
      "10.25\n",
      "100\n",
      "{40, 10, 20, 30}\n",
      "((1, 2, 3), (4, 5, 6), (7, 8))\n",
      "10 20 30 40\n"
     ]
    }
   ],
   "source": [
    "#create a tupple with diffrent types\n",
    "tupple1=(10,20,30,40)\n",
    "\n",
    "tupple2=(\"charusat\",\"charusat\",\"depstar\",\"hostel\")\n",
    "\n",
    "tupple3=(\"10.250\",\"10.25\",\"21.25\",\"99.98\")\n",
    "\n",
    "tupple4=(\"charusat\",\"54.26\",\"6\",\"cspit\")\n",
    "\n",
    "#positive and nagetive index \n",
    "print(tupple1[1])\n",
    "print(tupple2[-3])\n",
    "\n",
    "# specific index location \n",
    "print(tupple2[-3:-1])\n",
    "\n",
    "#occurrnces of elements \n",
    "count_occ=tupple2.count(\"charusat\")\n",
    "print(count_occ)\n",
    "\n",
    "index=tupple3.index(\"10.25\")\n",
    "print(index)\n",
    "\n",
    "#len(),max(),min() and sum() functions are run\n",
    "print(len(tupple3))\n",
    "print(max(tupple3))\n",
    "print(min(tupple3))\n",
    "print(sum(tupple1))\n",
    "\n",
    "#disctint elements in tuple\n",
    "print(set(tupple1))\n",
    "\n",
    "#list of tuple vice-varsa\n",
    "list1=[(1,2,3),(4,5,6),(7,8)]\n",
    "print(tuple(list1))\n",
    "\n",
    "#demostrate \n",
    "#tuple unpacking\n",
    "a,b,c,d=tupple1\n",
    "print(a,b,c,d)"
   ]
  },
  {
   "cell_type": "code",
   "execution_count": null,
   "metadata": {},
   "outputs": [],
   "source": []
  }
 ],
 "metadata": {
  "kernelspec": {
   "display_name": "path1",
   "language": "python",
   "name": "python3"
  },
  "language_info": {
   "codemirror_mode": {
    "name": "ipython",
    "version": 3
   },
   "file_extension": ".py",
   "mimetype": "text/x-python",
   "name": "python",
   "nbconvert_exporter": "python",
   "pygments_lexer": "ipython3",
   "version": "3.13.1"
  }
 },
 "nbformat": 4,
 "nbformat_minor": 2
}

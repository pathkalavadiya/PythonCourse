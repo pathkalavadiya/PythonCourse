{
 "cells": [
  {
   "cell_type": "code",
   "execution_count": 1,
   "metadata": {},
   "outputs": [
    {
     "name": "stdout",
     "output_type": "stream",
     "text": [
      "{'name': 'jamavat', 'age': '18', 'country': 'india'}\n"
     ]
    }
   ],
   "source": [
    "#Create a dictionary to store key-value pairs\n",
    "my_dict={'name':'jamavat','age':'18','country':'india'}\n",
    "print(my_dict)\n"
   ]
  },
  {
   "cell_type": "code",
   "execution_count": 7,
   "metadata": {},
   "outputs": [
    {
     "name": "stdout",
     "output_type": "stream",
     "text": [
      "jamavat2\n",
      "18\n",
      "{'name': 'jamavat2', 'age': '18', 'country': 'india'}\n",
      "{'name': 'jamavat2', 'country': 'india'}\n"
     ]
    }
   ],
   "source": [
    "#Access, update, and delete dictionary elements using keys\n",
    "#Accessing dictionary elements\n",
    "print(my_dict['name'])\n",
    "\n",
    "#Accessing dictionary elements\n",
    "print(my_dict['age'])\n",
    "\n",
    "#update\n",
    "my_dict['name']='jamavat2'\n",
    "print(my_dict)\n",
    "\n",
    "#delete\n",
    "del my_dict['age']\n",
    "print(my_dict)"
   ]
  },
  {
   "cell_type": "code",
   "execution_count": 8,
   "metadata": {},
   "outputs": [
    {
     "name": "stdout",
     "output_type": "stream",
     "text": [
      "dict_keys(['name', 'country'])\n"
     ]
    }
   ],
   "source": [
    "#Use dictionary methods like keys(), values(), and items()\n",
    "key=my_dict.keys()\n",
    "print(key)"
   ]
  },
  {
   "cell_type": "code",
   "execution_count": 12,
   "metadata": {},
   "outputs": [
    {
     "name": "stdout",
     "output_type": "stream",
     "text": [
      "dict_values(['jamavat2', 'india'])\n"
     ]
    }
   ],
   "source": [
    "Value=my_dict.values()\n",
    "print(Value)"
   ]
  },
  {
   "cell_type": "code",
   "execution_count": 13,
   "metadata": {},
   "outputs": [
    {
     "name": "stdout",
     "output_type": "stream",
     "text": [
      "dict_items([('name', 'jamavat2'), ('country', 'india')])\n"
     ]
    }
   ],
   "source": [
    "iteam=my_dict.items()\n",
    "print(iteam)"
   ]
  },
  {
   "cell_type": "code",
   "execution_count": 15,
   "metadata": {},
   "outputs": [
    {
     "name": "stdout",
     "output_type": "stream",
     "text": [
      "{'name': 'jamavat2', 'country': 'india', 'age': '19'}\n",
      "{'name': 'jamavat2', 'age': '19'}\n"
     ]
    }
   ],
   "source": [
    "#Add a new key-value pair and remove an existing key-value pair\n",
    "my_dict['age']='19'\n",
    "print(my_dict)\n",
    "\n",
    "my_dict.pop('country')\n",
    "print(my_dict)\n"
   ]
  },
  {
   "cell_type": "code",
   "execution_count": 19,
   "metadata": {},
   "outputs": [
    {
     "name": "stdout",
     "output_type": "stream",
     "text": [
      "{'student1': {'name': 'jamavat', 'age': '18', 'marks': '90'}, 'student2': {'name': 'jamavat2', 'age': '19', 'marks': '90'}}\n"
     ]
    }
   ],
   "source": [
    "#Create a nested dictionary to store student details\n",
    "student_details = {\n",
    "    'student1':{'name':'jamavat','age':'18','marks':'90'},\n",
    "    'student2':{'name':'jamavat2','age':'19','marks':'90'},\n",
    "\n",
    "}\n",
    "print(student_details)"
   ]
  },
  {
   "cell_type": "code",
   "execution_count": 20,
   "metadata": {},
   "outputs": [
    {
     "name": "stdout",
     "output_type": "stream",
     "text": [
      "jamavat\n",
      "{'student1': {'name': 'jamavat', 'age': '18', 'marks': '90'}, 'student2': {'name': 'jamavat2', 'age': 18, 'marks': '90'}}\n"
     ]
    }
   ],
   "source": [
    "#Access and update elements in a nested dictionary\n",
    "print(student_details['student1']['name'])\n",
    "\n",
    "\n",
    "student_details['student2']['age']=18\n",
    "print(student_details)"
   ]
  },
  {
   "cell_type": "code",
   "execution_count": 22,
   "metadata": {},
   "outputs": [
    {
     "name": "stdout",
     "output_type": "stream",
     "text": [
      "{'name': 'jamavat', 'age': '18', 'marks': '90'}\n"
     ]
    }
   ],
   "source": [
    "#Merge two dictionaries using update()\n",
    "student1={'name':'jamavat','age':'18','marks':'90'}\n",
    "student2={'name':'jamavat2','age':'18','marks':'95'}\n",
    "\n",
    "\n",
    "student2.update(student1)\n",
    "print(student2)\n"
   ]
  },
  {
   "cell_type": "code",
   "execution_count": 26,
   "metadata": {},
   "outputs": [
    {
     "name": "stdout",
     "output_type": "stream",
     "text": [
      "{'a': '2', 'b': '5', 'c': '3'}\n"
     ]
    }
   ],
   "source": [
    "#Write a program to sort a dictionary based on its values\n",
    "number={'a':'2','b':'5','c':'3'}\n",
    "number1=dict(sorted(number.items()))\n",
    "print(number1)\n",
    "\n",
    "\n",
    "\n"
   ]
  },
  {
   "cell_type": "code",
   "execution_count": null,
   "metadata": {},
   "outputs": [],
   "source": []
  }
 ],
 "metadata": {
  "kernelspec": {
   "display_name": "path1",
   "language": "python",
   "name": "python3"
  },
  "language_info": {
   "codemirror_mode": {
    "name": "ipython",
    "version": 3
   },
   "file_extension": ".py",
   "mimetype": "text/x-python",
   "name": "python",
   "nbconvert_exporter": "python",
   "pygments_lexer": "ipython3",
   "version": "3.13.1"
  }
 },
 "nbformat": 4,
 "nbformat_minor": 2
}

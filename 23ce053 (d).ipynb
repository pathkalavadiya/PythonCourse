{
 "cells": [
  {
   "cell_type": "code",
   "execution_count": 1,
   "metadata": {},
   "outputs": [
    {
     "name": "stdout",
     "output_type": "stream",
     "text": [
      "{1, 2, 6, 9, 10}\n"
     ]
    }
   ],
   "source": [
    "#Create a set to store unique elements\n",
    "set={1,2,6,9,10}\n",
    "print(set)\n"
   ]
  },
  {
   "cell_type": "code",
   "execution_count": 2,
   "metadata": {},
   "outputs": [
    {
     "name": "stdout",
     "output_type": "stream",
     "text": [
      "{1, 2, 6, 7, 9, 10}\n"
     ]
    }
   ],
   "source": [
    "#Add elements to a set\n",
    "set.add(7)\n",
    "print(set)\n"
   ]
  },
  {
   "cell_type": "code",
   "execution_count": 3,
   "metadata": {},
   "outputs": [
    {
     "name": "stdout",
     "output_type": "stream",
     "text": [
      "{1, 2, 6, 7, 10}\n"
     ]
    }
   ],
   "source": [
    "#Remove elements from a set\n",
    "set.remove(9)\n",
    "print(set)"
   ]
  },
  {
   "cell_type": "code",
   "execution_count": 4,
   "metadata": {},
   "outputs": [
    {
     "name": "stdout",
     "output_type": "stream",
     "text": [
      "{4, 5, 6, 40, 8, 10, 9, 20, 60}\n"
     ]
    }
   ],
   "source": [
    "#Combine elements from two sets (Union)\n",
    "set1={10,20,60,40}\n",
    "set2={4,5,6,8,9}\n",
    "com=set1.union(set2)\n",
    "print(com)\n"
   ]
  },
  {
   "cell_type": "code",
   "execution_count": 5,
   "metadata": {},
   "outputs": [
    {
     "name": "stdout",
     "output_type": "stream",
     "text": [
      "{4, 6}\n"
     ]
    }
   ],
   "source": [
    "#Find common elements between two sets (Intersection)\n",
    "set1={10,4,6,40}\n",
    "set2={4,5,6,8,9}\n",
    "com1=set1.intersection(set2)\n",
    "print(com1)"
   ]
  },
  {
   "cell_type": "code",
   "execution_count": 6,
   "metadata": {},
   "outputs": [
    {
     "name": "stdout",
     "output_type": "stream",
     "text": [
      "{40, 10}\n"
     ]
    }
   ],
   "source": [
    "#Find elements present in one set but not in another (Difference)\n",
    "set1={10,4,6,40}\n",
    "set2={4,5,6,8,9}\n",
    "com2=set1.difference(set2)\n",
    "print(com2)"
   ]
  },
  {
   "cell_type": "code",
   "execution_count": 7,
   "metadata": {},
   "outputs": [
    {
     "name": "stdout",
     "output_type": "stream",
     "text": [
      "{10, 5, 8, 9, 40}\n"
     ]
    }
   ],
   "source": [
    "#Find elements present in either of the sets but not in their intersection\n",
    "set1={10,4,6,40}\n",
    "set2={4,5,6,8,9}\n",
    "com3=set1.symmetric_difference(set2)\n",
    "print(com3)"
   ]
  },
  {
   "cell_type": "code",
   "execution_count": 9,
   "metadata": {},
   "outputs": [
    {
     "name": "stdout",
     "output_type": "stream",
     "text": [
      "False\n"
     ]
    }
   ],
   "source": [
    "#Check if one set is a subset of another\n",
    "set1={10,4,6,40}\n",
    "set2={4,5,6,8,9}\n",
    "com4=set1.issubset(set2)\n",
    "print(com4)\n"
   ]
  },
  {
   "cell_type": "code",
   "execution_count": 10,
   "metadata": {},
   "outputs": [
    {
     "name": "stdout",
     "output_type": "stream",
     "text": [
      "False\n"
     ]
    }
   ],
   "source": [
    "#Check if one set is a superset of another\n",
    "set1={10,4,6,40}\n",
    "set2={4,5,6,8,9}\n",
    "com5=set1.issuperset(set2)\n",
    "print(com5)"
   ]
  },
  {
   "cell_type": "code",
   "execution_count": 11,
   "metadata": {},
   "outputs": [
    {
     "name": "stdout",
     "output_type": "stream",
     "text": [
      "set()\n"
     ]
    }
   ],
   "source": [
    "#Remove all elements from a set\n",
    "set1={10,4,6,40}\n",
    "set1.clear()\n",
    "print(set1)\n"
   ]
  }
 ],
 "metadata": {
  "kernelspec": {
   "display_name": "path1",
   "language": "python",
   "name": "python3"
  },
  "language_info": {
   "codemirror_mode": {
    "name": "ipython",
    "version": 3
   },
   "file_extension": ".py",
   "mimetype": "text/x-python",
   "name": "python",
   "nbconvert_exporter": "python",
   "pygments_lexer": "ipython3",
   "version": "3.13.1"
  }
 },
 "nbformat": 4,
 "nbformat_minor": 2
}
